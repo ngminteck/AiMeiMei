{
 "cells": [
  {
   "cell_type": "code",
   "execution_count": 1,
   "id": "95569263-6800-457a-97cc-1f4e65dccc34",
   "metadata": {},
   "outputs": [
    {
     "name": "stdout",
     "output_type": "stream",
     "text": [
      "Defaulting to user installation because normal site-packages is not writeable\n",
      "Looking in indexes: https://pypi.org/simple, https://pypi.ngc.nvidia.com\n",
      "Requirement already satisfied: ipywidgets in c:\\programdata\\anaconda3\\lib\\site-packages (7.8.1)\n",
      "Requirement already satisfied: comm>=0.1.3 in c:\\programdata\\anaconda3\\lib\\site-packages (from ipywidgets) (0.2.1)\n",
      "Requirement already satisfied: ipython-genutils~=0.2.0 in c:\\programdata\\anaconda3\\lib\\site-packages (from ipywidgets) (0.2.0)\n",
      "Requirement already satisfied: traitlets>=4.3.1 in c:\\programdata\\anaconda3\\lib\\site-packages (from ipywidgets) (5.14.3)\n",
      "Requirement already satisfied: widgetsnbextension~=3.6.6 in c:\\programdata\\anaconda3\\lib\\site-packages (from ipywidgets) (3.6.6)\n",
      "Requirement already satisfied: ipython>=4.0.0 in c:\\programdata\\anaconda3\\lib\\site-packages (from ipywidgets) (8.27.0)\n",
      "Requirement already satisfied: jupyterlab-widgets<3,>=1.0.0 in c:\\programdata\\anaconda3\\lib\\site-packages (from ipywidgets) (1.0.0)\n",
      "Requirement already satisfied: decorator in c:\\programdata\\anaconda3\\lib\\site-packages (from ipython>=4.0.0->ipywidgets) (4.4.2)\n",
      "Requirement already satisfied: jedi>=0.16 in c:\\programdata\\anaconda3\\lib\\site-packages (from ipython>=4.0.0->ipywidgets) (0.19.1)\n",
      "Requirement already satisfied: matplotlib-inline in c:\\programdata\\anaconda3\\lib\\site-packages (from ipython>=4.0.0->ipywidgets) (0.1.6)\n",
      "Requirement already satisfied: prompt-toolkit<3.1.0,>=3.0.41 in c:\\programdata\\anaconda3\\lib\\site-packages (from ipython>=4.0.0->ipywidgets) (3.0.43)\n",
      "Requirement already satisfied: pygments>=2.4.0 in c:\\programdata\\anaconda3\\lib\\site-packages (from ipython>=4.0.0->ipywidgets) (2.15.1)\n",
      "Requirement already satisfied: stack-data in c:\\programdata\\anaconda3\\lib\\site-packages (from ipython>=4.0.0->ipywidgets) (0.2.0)\n",
      "Requirement already satisfied: colorama in c:\\programdata\\anaconda3\\lib\\site-packages (from ipython>=4.0.0->ipywidgets) (0.4.6)\n",
      "Requirement already satisfied: notebook>=4.4.1 in c:\\programdata\\anaconda3\\lib\\site-packages (from widgetsnbextension~=3.6.6->ipywidgets) (7.2.2)\n",
      "Requirement already satisfied: parso<0.9.0,>=0.8.3 in c:\\programdata\\anaconda3\\lib\\site-packages (from jedi>=0.16->ipython>=4.0.0->ipywidgets) (0.8.3)\n",
      "Requirement already satisfied: jupyter-server<3,>=2.4.0 in c:\\programdata\\anaconda3\\lib\\site-packages (from notebook>=4.4.1->widgetsnbextension~=3.6.6->ipywidgets) (2.14.1)\n",
      "Requirement already satisfied: jupyterlab-server<3,>=2.27.1 in c:\\programdata\\anaconda3\\lib\\site-packages (from notebook>=4.4.1->widgetsnbextension~=3.6.6->ipywidgets) (2.27.3)\n",
      "Requirement already satisfied: jupyterlab<4.3,>=4.2.0 in c:\\programdata\\anaconda3\\lib\\site-packages (from notebook>=4.4.1->widgetsnbextension~=3.6.6->ipywidgets) (4.2.5)\n",
      "Requirement already satisfied: notebook-shim<0.3,>=0.2 in c:\\programdata\\anaconda3\\lib\\site-packages (from notebook>=4.4.1->widgetsnbextension~=3.6.6->ipywidgets) (0.2.3)\n",
      "Requirement already satisfied: tornado>=6.2.0 in c:\\programdata\\anaconda3\\lib\\site-packages (from notebook>=4.4.1->widgetsnbextension~=3.6.6->ipywidgets) (6.4.1)\n",
      "Requirement already satisfied: wcwidth in c:\\programdata\\anaconda3\\lib\\site-packages (from prompt-toolkit<3.1.0,>=3.0.41->ipython>=4.0.0->ipywidgets) (0.2.5)\n",
      "Requirement already satisfied: executing in c:\\programdata\\anaconda3\\lib\\site-packages (from stack-data->ipython>=4.0.0->ipywidgets) (0.8.3)\n",
      "Requirement already satisfied: asttokens in c:\\programdata\\anaconda3\\lib\\site-packages (from stack-data->ipython>=4.0.0->ipywidgets) (2.0.5)\n",
      "Requirement already satisfied: pure-eval in c:\\programdata\\anaconda3\\lib\\site-packages (from stack-data->ipython>=4.0.0->ipywidgets) (0.2.2)\n",
      "Requirement already satisfied: anyio>=3.1.0 in c:\\programdata\\anaconda3\\lib\\site-packages (from jupyter-server<3,>=2.4.0->notebook>=4.4.1->widgetsnbextension~=3.6.6->ipywidgets) (4.2.0)\n",
      "Requirement already satisfied: argon2-cffi>=21.1 in c:\\programdata\\anaconda3\\lib\\site-packages (from jupyter-server<3,>=2.4.0->notebook>=4.4.1->widgetsnbextension~=3.6.6->ipywidgets) (21.3.0)\n",
      "Requirement already satisfied: jinja2>=3.0.3 in c:\\programdata\\anaconda3\\lib\\site-packages (from jupyter-server<3,>=2.4.0->notebook>=4.4.1->widgetsnbextension~=3.6.6->ipywidgets) (3.1.4)\n",
      "Requirement already satisfied: jupyter-client>=7.4.4 in c:\\programdata\\anaconda3\\lib\\site-packages (from jupyter-server<3,>=2.4.0->notebook>=4.4.1->widgetsnbextension~=3.6.6->ipywidgets) (8.6.0)\n",
      "Requirement already satisfied: jupyter-core!=5.0.*,>=4.12 in c:\\programdata\\anaconda3\\lib\\site-packages (from jupyter-server<3,>=2.4.0->notebook>=4.4.1->widgetsnbextension~=3.6.6->ipywidgets) (5.7.2)\n",
      "Requirement already satisfied: jupyter-events>=0.9.0 in c:\\programdata\\anaconda3\\lib\\site-packages (from jupyter-server<3,>=2.4.0->notebook>=4.4.1->widgetsnbextension~=3.6.6->ipywidgets) (0.10.0)\n",
      "Requirement already satisfied: jupyter-server-terminals>=0.4.4 in c:\\programdata\\anaconda3\\lib\\site-packages (from jupyter-server<3,>=2.4.0->notebook>=4.4.1->widgetsnbextension~=3.6.6->ipywidgets) (0.4.4)\n",
      "Requirement already satisfied: nbconvert>=6.4.4 in c:\\programdata\\anaconda3\\lib\\site-packages (from jupyter-server<3,>=2.4.0->notebook>=4.4.1->widgetsnbextension~=3.6.6->ipywidgets) (7.16.4)\n",
      "Requirement already satisfied: nbformat>=5.3.0 in c:\\programdata\\anaconda3\\lib\\site-packages (from jupyter-server<3,>=2.4.0->notebook>=4.4.1->widgetsnbextension~=3.6.6->ipywidgets) (5.10.4)\n",
      "Requirement already satisfied: overrides>=5.0 in c:\\programdata\\anaconda3\\lib\\site-packages (from jupyter-server<3,>=2.4.0->notebook>=4.4.1->widgetsnbextension~=3.6.6->ipywidgets) (7.4.0)\n",
      "Requirement already satisfied: packaging>=22.0 in c:\\programdata\\anaconda3\\lib\\site-packages (from jupyter-server<3,>=2.4.0->notebook>=4.4.1->widgetsnbextension~=3.6.6->ipywidgets) (24.1)\n",
      "Requirement already satisfied: prometheus-client>=0.9 in c:\\programdata\\anaconda3\\lib\\site-packages (from jupyter-server<3,>=2.4.0->notebook>=4.4.1->widgetsnbextension~=3.6.6->ipywidgets) (0.14.1)\n",
      "Requirement already satisfied: pywinpty>=2.0.1 in c:\\programdata\\anaconda3\\lib\\site-packages (from jupyter-server<3,>=2.4.0->notebook>=4.4.1->widgetsnbextension~=3.6.6->ipywidgets) (2.0.10)\n",
      "Requirement already satisfied: pyzmq>=24 in c:\\programdata\\anaconda3\\lib\\site-packages (from jupyter-server<3,>=2.4.0->notebook>=4.4.1->widgetsnbextension~=3.6.6->ipywidgets) (25.1.2)\n",
      "Requirement already satisfied: send2trash>=1.8.2 in c:\\programdata\\anaconda3\\lib\\site-packages (from jupyter-server<3,>=2.4.0->notebook>=4.4.1->widgetsnbextension~=3.6.6->ipywidgets) (1.8.2)\n",
      "Requirement already satisfied: terminado>=0.8.3 in c:\\programdata\\anaconda3\\lib\\site-packages (from jupyter-server<3,>=2.4.0->notebook>=4.4.1->widgetsnbextension~=3.6.6->ipywidgets) (0.17.1)\n",
      "Requirement already satisfied: websocket-client>=1.7 in c:\\programdata\\anaconda3\\lib\\site-packages (from jupyter-server<3,>=2.4.0->notebook>=4.4.1->widgetsnbextension~=3.6.6->ipywidgets) (1.8.0)\n",
      "Requirement already satisfied: async-lru>=1.0.0 in c:\\programdata\\anaconda3\\lib\\site-packages (from jupyterlab<4.3,>=4.2.0->notebook>=4.4.1->widgetsnbextension~=3.6.6->ipywidgets) (2.0.4)\n",
      "Requirement already satisfied: httpx>=0.25.0 in c:\\programdata\\anaconda3\\lib\\site-packages (from jupyterlab<4.3,>=4.2.0->notebook>=4.4.1->widgetsnbextension~=3.6.6->ipywidgets) (0.27.0)\n",
      "Requirement already satisfied: ipykernel>=6.5.0 in c:\\programdata\\anaconda3\\lib\\site-packages (from jupyterlab<4.3,>=4.2.0->notebook>=4.4.1->widgetsnbextension~=3.6.6->ipywidgets) (6.28.0)\n",
      "Requirement already satisfied: jupyter-lsp>=2.0.0 in c:\\programdata\\anaconda3\\lib\\site-packages (from jupyterlab<4.3,>=4.2.0->notebook>=4.4.1->widgetsnbextension~=3.6.6->ipywidgets) (2.2.0)\n",
      "Requirement already satisfied: setuptools>=40.1.0 in c:\\users\\ng_mi\\appdata\\roaming\\python\\python312\\site-packages (from jupyterlab<4.3,>=4.2.0->notebook>=4.4.1->widgetsnbextension~=3.6.6->ipywidgets) (76.0.0)\n",
      "Requirement already satisfied: babel>=2.10 in c:\\programdata\\anaconda3\\lib\\site-packages (from jupyterlab-server<3,>=2.27.1->notebook>=4.4.1->widgetsnbextension~=3.6.6->ipywidgets) (2.11.0)\n",
      "Requirement already satisfied: json5>=0.9.0 in c:\\programdata\\anaconda3\\lib\\site-packages (from jupyterlab-server<3,>=2.27.1->notebook>=4.4.1->widgetsnbextension~=3.6.6->ipywidgets) (0.9.6)\n",
      "Requirement already satisfied: jsonschema>=4.18.0 in c:\\programdata\\anaconda3\\lib\\site-packages (from jupyterlab-server<3,>=2.27.1->notebook>=4.4.1->widgetsnbextension~=3.6.6->ipywidgets) (4.23.0)\n",
      "Requirement already satisfied: requests>=2.31 in c:\\programdata\\anaconda3\\lib\\site-packages (from jupyterlab-server<3,>=2.27.1->notebook>=4.4.1->widgetsnbextension~=3.6.6->ipywidgets) (2.32.3)\n",
      "Requirement already satisfied: six in c:\\programdata\\anaconda3\\lib\\site-packages (from asttokens->stack-data->ipython>=4.0.0->ipywidgets) (1.16.0)\n",
      "Requirement already satisfied: idna>=2.8 in c:\\programdata\\anaconda3\\lib\\site-packages (from anyio>=3.1.0->jupyter-server<3,>=2.4.0->notebook>=4.4.1->widgetsnbextension~=3.6.6->ipywidgets) (3.7)\n",
      "Requirement already satisfied: sniffio>=1.1 in c:\\programdata\\anaconda3\\lib\\site-packages (from anyio>=3.1.0->jupyter-server<3,>=2.4.0->notebook>=4.4.1->widgetsnbextension~=3.6.6->ipywidgets) (1.3.0)\n",
      "Requirement already satisfied: argon2-cffi-bindings in c:\\programdata\\anaconda3\\lib\\site-packages (from argon2-cffi>=21.1->jupyter-server<3,>=2.4.0->notebook>=4.4.1->widgetsnbextension~=3.6.6->ipywidgets) (21.2.0)\n",
      "Requirement already satisfied: pytz>=2015.7 in c:\\programdata\\anaconda3\\lib\\site-packages (from babel>=2.10->jupyterlab-server<3,>=2.27.1->notebook>=4.4.1->widgetsnbextension~=3.6.6->ipywidgets) (2024.1)\n",
      "Requirement already satisfied: certifi in c:\\programdata\\anaconda3\\lib\\site-packages (from httpx>=0.25.0->jupyterlab<4.3,>=4.2.0->notebook>=4.4.1->widgetsnbextension~=3.6.6->ipywidgets) (2024.8.30)\n",
      "Requirement already satisfied: httpcore==1.* in c:\\programdata\\anaconda3\\lib\\site-packages (from httpx>=0.25.0->jupyterlab<4.3,>=4.2.0->notebook>=4.4.1->widgetsnbextension~=3.6.6->ipywidgets) (1.0.2)\n",
      "Requirement already satisfied: h11<0.15,>=0.13 in c:\\programdata\\anaconda3\\lib\\site-packages (from httpcore==1.*->httpx>=0.25.0->jupyterlab<4.3,>=4.2.0->notebook>=4.4.1->widgetsnbextension~=3.6.6->ipywidgets) (0.14.0)\n",
      "Requirement already satisfied: debugpy>=1.6.5 in c:\\programdata\\anaconda3\\lib\\site-packages (from ipykernel>=6.5.0->jupyterlab<4.3,>=4.2.0->notebook>=4.4.1->widgetsnbextension~=3.6.6->ipywidgets) (1.6.7)\n",
      "Requirement already satisfied: nest-asyncio in c:\\programdata\\anaconda3\\lib\\site-packages (from ipykernel>=6.5.0->jupyterlab<4.3,>=4.2.0->notebook>=4.4.1->widgetsnbextension~=3.6.6->ipywidgets) (1.6.0)\n",
      "Requirement already satisfied: psutil in c:\\programdata\\anaconda3\\lib\\site-packages (from ipykernel>=6.5.0->jupyterlab<4.3,>=4.2.0->notebook>=4.4.1->widgetsnbextension~=3.6.6->ipywidgets) (5.9.0)\n",
      "Requirement already satisfied: MarkupSafe>=2.0 in c:\\programdata\\anaconda3\\lib\\site-packages (from jinja2>=3.0.3->jupyter-server<3,>=2.4.0->notebook>=4.4.1->widgetsnbextension~=3.6.6->ipywidgets) (2.1.3)\n",
      "Requirement already satisfied: attrs>=22.2.0 in c:\\programdata\\anaconda3\\lib\\site-packages (from jsonschema>=4.18.0->jupyterlab-server<3,>=2.27.1->notebook>=4.4.1->widgetsnbextension~=3.6.6->ipywidgets) (23.1.0)\n",
      "Requirement already satisfied: jsonschema-specifications>=2023.03.6 in c:\\programdata\\anaconda3\\lib\\site-packages (from jsonschema>=4.18.0->jupyterlab-server<3,>=2.27.1->notebook>=4.4.1->widgetsnbextension~=3.6.6->ipywidgets) (2023.7.1)\n",
      "Requirement already satisfied: referencing>=0.28.4 in c:\\programdata\\anaconda3\\lib\\site-packages (from jsonschema>=4.18.0->jupyterlab-server<3,>=2.27.1->notebook>=4.4.1->widgetsnbextension~=3.6.6->ipywidgets) (0.30.2)\n",
      "Requirement already satisfied: rpds-py>=0.7.1 in c:\\programdata\\anaconda3\\lib\\site-packages (from jsonschema>=4.18.0->jupyterlab-server<3,>=2.27.1->notebook>=4.4.1->widgetsnbextension~=3.6.6->ipywidgets) (0.10.6)\n",
      "Requirement already satisfied: python-dateutil>=2.8.2 in c:\\programdata\\anaconda3\\lib\\site-packages (from jupyter-client>=7.4.4->jupyter-server<3,>=2.4.0->notebook>=4.4.1->widgetsnbextension~=3.6.6->ipywidgets) (2.9.0.post0)\n",
      "Requirement already satisfied: platformdirs>=2.5 in c:\\programdata\\anaconda3\\lib\\site-packages (from jupyter-core!=5.0.*,>=4.12->jupyter-server<3,>=2.4.0->notebook>=4.4.1->widgetsnbextension~=3.6.6->ipywidgets) (3.10.0)\n",
      "Requirement already satisfied: pywin32>=300 in c:\\programdata\\anaconda3\\lib\\site-packages (from jupyter-core!=5.0.*,>=4.12->jupyter-server<3,>=2.4.0->notebook>=4.4.1->widgetsnbextension~=3.6.6->ipywidgets) (305.1)\n",
      "Requirement already satisfied: python-json-logger>=2.0.4 in c:\\programdata\\anaconda3\\lib\\site-packages (from jupyter-events>=0.9.0->jupyter-server<3,>=2.4.0->notebook>=4.4.1->widgetsnbextension~=3.6.6->ipywidgets) (2.0.7)\n",
      "Requirement already satisfied: pyyaml>=5.3 in c:\\programdata\\anaconda3\\lib\\site-packages (from jupyter-events>=0.9.0->jupyter-server<3,>=2.4.0->notebook>=4.4.1->widgetsnbextension~=3.6.6->ipywidgets) (6.0.1)\n",
      "Requirement already satisfied: rfc3339-validator in c:\\programdata\\anaconda3\\lib\\site-packages (from jupyter-events>=0.9.0->jupyter-server<3,>=2.4.0->notebook>=4.4.1->widgetsnbextension~=3.6.6->ipywidgets) (0.1.4)\n",
      "Requirement already satisfied: rfc3986-validator>=0.1.1 in c:\\programdata\\anaconda3\\lib\\site-packages (from jupyter-events>=0.9.0->jupyter-server<3,>=2.4.0->notebook>=4.4.1->widgetsnbextension~=3.6.6->ipywidgets) (0.1.1)\n",
      "Requirement already satisfied: beautifulsoup4 in c:\\programdata\\anaconda3\\lib\\site-packages (from nbconvert>=6.4.4->jupyter-server<3,>=2.4.0->notebook>=4.4.1->widgetsnbextension~=3.6.6->ipywidgets) (4.12.3)\n",
      "Requirement already satisfied: bleach!=5.0.0 in c:\\programdata\\anaconda3\\lib\\site-packages (from nbconvert>=6.4.4->jupyter-server<3,>=2.4.0->notebook>=4.4.1->widgetsnbextension~=3.6.6->ipywidgets) (4.1.0)\n",
      "Requirement already satisfied: defusedxml in c:\\programdata\\anaconda3\\lib\\site-packages (from nbconvert>=6.4.4->jupyter-server<3,>=2.4.0->notebook>=4.4.1->widgetsnbextension~=3.6.6->ipywidgets) (0.7.1)\n",
      "Requirement already satisfied: jupyterlab-pygments in c:\\programdata\\anaconda3\\lib\\site-packages (from nbconvert>=6.4.4->jupyter-server<3,>=2.4.0->notebook>=4.4.1->widgetsnbextension~=3.6.6->ipywidgets) (0.1.2)\n",
      "Requirement already satisfied: mistune<4,>=2.0.3 in c:\\programdata\\anaconda3\\lib\\site-packages (from nbconvert>=6.4.4->jupyter-server<3,>=2.4.0->notebook>=4.4.1->widgetsnbextension~=3.6.6->ipywidgets) (2.0.4)\n",
      "Requirement already satisfied: nbclient>=0.5.0 in c:\\programdata\\anaconda3\\lib\\site-packages (from nbconvert>=6.4.4->jupyter-server<3,>=2.4.0->notebook>=4.4.1->widgetsnbextension~=3.6.6->ipywidgets) (0.8.0)\n",
      "Requirement already satisfied: pandocfilters>=1.4.1 in c:\\programdata\\anaconda3\\lib\\site-packages (from nbconvert>=6.4.4->jupyter-server<3,>=2.4.0->notebook>=4.4.1->widgetsnbextension~=3.6.6->ipywidgets) (1.5.0)\n",
      "Requirement already satisfied: tinycss2 in c:\\programdata\\anaconda3\\lib\\site-packages (from nbconvert>=6.4.4->jupyter-server<3,>=2.4.0->notebook>=4.4.1->widgetsnbextension~=3.6.6->ipywidgets) (1.2.1)\n",
      "Requirement already satisfied: fastjsonschema>=2.15 in c:\\programdata\\anaconda3\\lib\\site-packages (from nbformat>=5.3.0->jupyter-server<3,>=2.4.0->notebook>=4.4.1->widgetsnbextension~=3.6.6->ipywidgets) (2.16.2)\n",
      "Requirement already satisfied: charset-normalizer<4,>=2 in c:\\programdata\\anaconda3\\lib\\site-packages (from requests>=2.31->jupyterlab-server<3,>=2.27.1->notebook>=4.4.1->widgetsnbextension~=3.6.6->ipywidgets) (3.3.2)\n",
      "Requirement already satisfied: urllib3<3,>=1.21.1 in c:\\programdata\\anaconda3\\lib\\site-packages (from requests>=2.31->jupyterlab-server<3,>=2.27.1->notebook>=4.4.1->widgetsnbextension~=3.6.6->ipywidgets) (2.2.3)\n",
      "Requirement already satisfied: webencodings in c:\\programdata\\anaconda3\\lib\\site-packages (from bleach!=5.0.0->nbconvert>=6.4.4->jupyter-server<3,>=2.4.0->notebook>=4.4.1->widgetsnbextension~=3.6.6->ipywidgets) (0.5.1)\n",
      "Requirement already satisfied: fqdn in c:\\programdata\\anaconda3\\lib\\site-packages (from jsonschema[format-nongpl]>=4.18.0->jupyter-events>=0.9.0->jupyter-server<3,>=2.4.0->notebook>=4.4.1->widgetsnbextension~=3.6.6->ipywidgets) (1.5.1)\n",
      "Requirement already satisfied: isoduration in c:\\programdata\\anaconda3\\lib\\site-packages (from jsonschema[format-nongpl]>=4.18.0->jupyter-events>=0.9.0->jupyter-server<3,>=2.4.0->notebook>=4.4.1->widgetsnbextension~=3.6.6->ipywidgets) (20.11.0)\n",
      "Requirement already satisfied: jsonpointer>1.13 in c:\\programdata\\anaconda3\\lib\\site-packages (from jsonschema[format-nongpl]>=4.18.0->jupyter-events>=0.9.0->jupyter-server<3,>=2.4.0->notebook>=4.4.1->widgetsnbextension~=3.6.6->ipywidgets) (2.1)\n",
      "Requirement already satisfied: uri-template in c:\\programdata\\anaconda3\\lib\\site-packages (from jsonschema[format-nongpl]>=4.18.0->jupyter-events>=0.9.0->jupyter-server<3,>=2.4.0->notebook>=4.4.1->widgetsnbextension~=3.6.6->ipywidgets) (1.3.0)\n",
      "Requirement already satisfied: webcolors>=24.6.0 in c:\\programdata\\anaconda3\\lib\\site-packages (from jsonschema[format-nongpl]>=4.18.0->jupyter-events>=0.9.0->jupyter-server<3,>=2.4.0->notebook>=4.4.1->widgetsnbextension~=3.6.6->ipywidgets) (24.11.1)\n",
      "Requirement already satisfied: cffi>=1.0.1 in c:\\programdata\\anaconda3\\lib\\site-packages (from argon2-cffi-bindings->argon2-cffi>=21.1->jupyter-server<3,>=2.4.0->notebook>=4.4.1->widgetsnbextension~=3.6.6->ipywidgets) (1.17.1)\n",
      "Requirement already satisfied: soupsieve>1.2 in c:\\programdata\\anaconda3\\lib\\site-packages (from beautifulsoup4->nbconvert>=6.4.4->jupyter-server<3,>=2.4.0->notebook>=4.4.1->widgetsnbextension~=3.6.6->ipywidgets) (2.5)\n",
      "Requirement already satisfied: pycparser in c:\\programdata\\anaconda3\\lib\\site-packages (from cffi>=1.0.1->argon2-cffi-bindings->argon2-cffi>=21.1->jupyter-server<3,>=2.4.0->notebook>=4.4.1->widgetsnbextension~=3.6.6->ipywidgets) (2.21)\n",
      "Requirement already satisfied: arrow>=0.15.0 in c:\\programdata\\anaconda3\\lib\\site-packages (from isoduration->jsonschema[format-nongpl]>=4.18.0->jupyter-events>=0.9.0->jupyter-server<3,>=2.4.0->notebook>=4.4.1->widgetsnbextension~=3.6.6->ipywidgets) (1.2.3)\n",
      "Note: you may need to restart the kernel to use updated packages.\n"
     ]
    }
   ],
   "source": [
    "%pip install ipywidgets"
   ]
  },
  {
   "cell_type": "code",
   "execution_count": null,
   "id": "c3bba339-f63e-4eb2-bae9-df3396cd0097",
   "metadata": {},
   "outputs": [
    {
     "name": "stderr",
     "output_type": "stream",
     "text": [
      "C:\\ProgramData\\anaconda3\\Lib\\site-packages\\paramiko\\pkey.py:82: CryptographyDeprecationWarning: TripleDES has been moved to cryptography.hazmat.decrepit.ciphers.algorithms.TripleDES and will be removed from this module in 48.0.0.\n",
      "  \"cipher\": algorithms.TripleDES,\n",
      "C:\\ProgramData\\anaconda3\\Lib\\site-packages\\paramiko\\transport.py:219: CryptographyDeprecationWarning: Blowfish has been moved to cryptography.hazmat.decrepit.ciphers.algorithms.Blowfish and will be removed from this module in 45.0.0.\n",
      "  \"class\": algorithms.Blowfish,\n",
      "C:\\ProgramData\\anaconda3\\Lib\\site-packages\\paramiko\\transport.py:243: CryptographyDeprecationWarning: TripleDES has been moved to cryptography.hazmat.decrepit.ciphers.algorithms.TripleDES and will be removed from this module in 48.0.0.\n",
      "  \"class\": algorithms.TripleDES,\n",
      "C:\\ProgramData\\anaconda3\\Lib\\site-packages\\torchvision\\models\\_utils.py:208: UserWarning: The parameter 'pretrained' is deprecated since 0.13 and may be removed in the future, please use 'weights' instead.\n",
      "  warnings.warn(\n",
      "C:\\ProgramData\\anaconda3\\Lib\\site-packages\\torchvision\\models\\_utils.py:223: UserWarning: Arguments other than a weight enum or `None` for 'weights' are deprecated since 0.13 and may be removed in the future. The current behavior is equivalent to passing `weights=AlexNet_Weights.IMAGENET1K_V1`. You can also use `weights=AlexNet_Weights.DEFAULT` to get the most up-to-date weights.\n",
      "  warnings.warn(msg)\n"
     ]
    },
    {
     "name": "stdout",
     "output_type": "stream",
     "text": [
      "Setting up [LPIPS] perceptual loss: trunk [alex], v[0.1], spatial [off]\n",
      "Loading model from: C:\\Users\\ng_mi\\AppData\\Roaming\\Python\\Python312\\site-packages\\lpips\\weights\\v0.1\\alex.pth\n"
     ]
    },
    {
     "data": {
      "application/vnd.jupyter.widget-view+json": {
       "model_id": "2f2dcb0c0eba49d8b2c52e8ff97f8a8a",
       "version_major": 2,
       "version_minor": 0
      },
      "text/plain": [
       "Loading pipeline components...:   0%|          | 0/6 [00:00<?, ?it/s]"
      ]
     },
     "metadata": {},
     "output_type": "display_data"
    },
    {
     "name": "stderr",
     "output_type": "stream",
     "text": [
      "Processing images:   0%|          | 0/5168 [00:00<?, ?it/s]"
     ]
    },
    {
     "data": {
      "application/vnd.jupyter.widget-view+json": {
       "model_id": "f336e06b7298466089af597b4103f0e7",
       "version_major": 2,
       "version_minor": 0
      },
      "text/plain": [
       "  0%|          | 0/50 [00:00<?, ?it/s]"
      ]
     },
     "metadata": {},
     "output_type": "display_data"
    },
    {
     "name": "stderr",
     "output_type": "stream",
     "text": [
      "Processing images:   0%|          | 1/5168 [00:05<8:13:29,  5.73s/it, Lama_PSNR=13.53, ControlNet_PSNR=13.74, OpenCV_PSNR=14.42]"
     ]
    },
    {
     "data": {
      "application/vnd.jupyter.widget-view+json": {
       "model_id": "f623d86fc3e84bf3ad857c97a75bbf08",
       "version_major": 2,
       "version_minor": 0
      },
      "text/plain": [
       "  0%|          | 0/50 [00:00<?, ?it/s]"
      ]
     },
     "metadata": {},
     "output_type": "display_data"
    },
    {
     "name": "stderr",
     "output_type": "stream",
     "text": [
      "Processing images:   0%|          | 2/5168 [00:10<7:17:24,  5.08s/it, Lama_PSNR=17.19, ControlNet_PSNR=16.68, OpenCV_PSNR=15.83]"
     ]
    },
    {
     "data": {
      "application/vnd.jupyter.widget-view+json": {
       "model_id": "6583885bbe83469fa941af77a503467c",
       "version_major": 2,
       "version_minor": 0
      },
      "text/plain": [
       "  0%|          | 0/50 [00:00<?, ?it/s]"
      ]
     },
     "metadata": {},
     "output_type": "display_data"
    },
    {
     "name": "stderr",
     "output_type": "stream",
     "text": [
      "Processing images:   0%|          | 3/5168 [00:15<7:13:47,  5.04s/it, Lama_PSNR=22.79, ControlNet_PSNR=22.39, OpenCV_PSNR=21.31]"
     ]
    },
    {
     "data": {
      "application/vnd.jupyter.widget-view+json": {
       "model_id": "2dd7ac29c6274805af4fa41728701aeb",
       "version_major": 2,
       "version_minor": 0
      },
      "text/plain": [
       "  0%|          | 0/50 [00:00<?, ?it/s]"
      ]
     },
     "metadata": {},
     "output_type": "display_data"
    },
    {
     "name": "stderr",
     "output_type": "stream",
     "text": [
      "Processing images:   0%|          | 4/5168 [00:19<6:52:31,  4.79s/it, Lama_PSNR=15.66, ControlNet_PSNR=10.60, OpenCV_PSNR=11.02]"
     ]
    },
    {
     "data": {
      "application/vnd.jupyter.widget-view+json": {
       "model_id": "25f6d56e728d4b7f89334f43e6dd166d",
       "version_major": 2,
       "version_minor": 0
      },
      "text/plain": [
       "  0%|          | 0/50 [00:00<?, ?it/s]"
      ]
     },
     "metadata": {},
     "output_type": "display_data"
    },
    {
     "name": "stderr",
     "output_type": "stream",
     "text": [
      "Processing images:   0%|          | 5/5168 [00:24<6:36:01,  4.60s/it, Lama_PSNR=16.55, ControlNet_PSNR=16.44, OpenCV_PSNR=21.23]"
     ]
    },
    {
     "data": {
      "application/vnd.jupyter.widget-view+json": {
       "model_id": "f9b2c5df5a22488ca77b6e0c3782830b",
       "version_major": 2,
       "version_minor": 0
      },
      "text/plain": [
       "  0%|          | 0/50 [00:00<?, ?it/s]"
      ]
     },
     "metadata": {},
     "output_type": "display_data"
    },
    {
     "name": "stderr",
     "output_type": "stream",
     "text": [
      "Processing images:   0%|          | 6/5168 [00:28<6:37:10,  4.62s/it, Lama_PSNR=18.57, ControlNet_PSNR=13.69, OpenCV_PSNR=13.49]"
     ]
    },
    {
     "data": {
      "application/vnd.jupyter.widget-view+json": {
       "model_id": "c8344abd1967476893293bf51e5683be",
       "version_major": 2,
       "version_minor": 0
      },
      "text/plain": [
       "  0%|          | 0/50 [00:00<?, ?it/s]"
      ]
     },
     "metadata": {},
     "output_type": "display_data"
    },
    {
     "name": "stderr",
     "output_type": "stream",
     "text": [
      "Processing images:   0%|          | 7/5168 [00:33<6:37:30,  4.62s/it, Lama_PSNR=20.18, ControlNet_PSNR=14.30, OpenCV_PSNR=14.74]"
     ]
    },
    {
     "data": {
      "application/vnd.jupyter.widget-view+json": {
       "model_id": "061f85e65a824191929f312d9891aca6",
       "version_major": 2,
       "version_minor": 0
      },
      "text/plain": [
       "  0%|          | 0/50 [00:00<?, ?it/s]"
      ]
     },
     "metadata": {},
     "output_type": "display_data"
    },
    {
     "name": "stderr",
     "output_type": "stream",
     "text": [
      "Processing images:   0%|          | 8/5168 [00:38<6:58:19,  4.86s/it, Lama_PSNR=17.69, ControlNet_PSNR=14.67, OpenCV_PSNR=14.83]"
     ]
    },
    {
     "data": {
      "application/vnd.jupyter.widget-view+json": {
       "model_id": "cfa3b39c04204852a214e587c7495818",
       "version_major": 2,
       "version_minor": 0
      },
      "text/plain": [
       "  0%|          | 0/50 [00:00<?, ?it/s]"
      ]
     },
     "metadata": {},
     "output_type": "display_data"
    },
    {
     "name": "stderr",
     "output_type": "stream",
     "text": [
      "Processing images:   0%|          | 9/5168 [00:43<6:59:03,  4.87s/it, Lama_PSNR=16.56, ControlNet_PSNR=14.90, OpenCV_PSNR=16.41]"
     ]
    },
    {
     "data": {
      "application/vnd.jupyter.widget-view+json": {
       "model_id": "6cbc19c8335848068376f995452dc8c6",
       "version_major": 2,
       "version_minor": 0
      },
      "text/plain": [
       "  0%|          | 0/50 [00:00<?, ?it/s]"
      ]
     },
     "metadata": {},
     "output_type": "display_data"
    },
    {
     "name": "stderr",
     "output_type": "stream",
     "text": [
      "Processing images:   0%|          | 10/5168 [00:47<6:41:24,  4.67s/it, Lama_PSNR=16.27, ControlNet_PSNR=15.46, OpenCV_PSNR=14.64]"
     ]
    },
    {
     "data": {
      "application/vnd.jupyter.widget-view+json": {
       "model_id": "0c720d0676d24a598bbfd0fb482d5b6b",
       "version_major": 2,
       "version_minor": 0
      },
      "text/plain": [
       "  0%|          | 0/50 [00:00<?, ?it/s]"
      ]
     },
     "metadata": {},
     "output_type": "display_data"
    },
    {
     "name": "stderr",
     "output_type": "stream",
     "text": [
      "Processing images:   0%|          | 11/5168 [00:52<6:54:34,  4.82s/it, Lama_PSNR=23.26, ControlNet_PSNR=16.25, OpenCV_PSNR=19.24]"
     ]
    },
    {
     "data": {
      "application/vnd.jupyter.widget-view+json": {
       "model_id": "ccc1cc81d6e6406ab98e1ea6e9142e53",
       "version_major": 2,
       "version_minor": 0
      },
      "text/plain": [
       "  0%|          | 0/50 [00:00<?, ?it/s]"
      ]
     },
     "metadata": {},
     "output_type": "display_data"
    },
    {
     "name": "stderr",
     "output_type": "stream",
     "text": [
      "Processing images:   0%|          | 12/5168 [00:57<6:44:04,  4.70s/it, Lama_PSNR=22.04, ControlNet_PSNR=18.64, OpenCV_PSNR=19.14]"
     ]
    },
    {
     "data": {
      "application/vnd.jupyter.widget-view+json": {
       "model_id": "6262776b4eb245bcb23d6b6e35110311",
       "version_major": 2,
       "version_minor": 0
      },
      "text/plain": [
       "  0%|          | 0/50 [00:00<?, ?it/s]"
      ]
     },
     "metadata": {},
     "output_type": "display_data"
    },
    {
     "name": "stderr",
     "output_type": "stream",
     "text": [
      "Processing images:   0%|          | 13/5168 [01:01<6:40:59,  4.67s/it, Lama_PSNR=18.33, ControlNet_PSNR=15.12, OpenCV_PSNR=18.09]"
     ]
    },
    {
     "data": {
      "application/vnd.jupyter.widget-view+json": {
       "model_id": "85f81ceb2e95466d95f4f07fba9de182",
       "version_major": 2,
       "version_minor": 0
      },
      "text/plain": [
       "  0%|          | 0/50 [00:00<?, ?it/s]"
      ]
     },
     "metadata": {},
     "output_type": "display_data"
    },
    {
     "name": "stderr",
     "output_type": "stream",
     "text": [
      "Processing images:   0%|          | 14/5168 [01:06<6:39:12,  4.65s/it, Lama_PSNR=15.84, ControlNet_PSNR=14.00, OpenCV_PSNR=14.63]"
     ]
    },
    {
     "data": {
      "application/vnd.jupyter.widget-view+json": {
       "model_id": "02174f9087b64bc7b3e54c4fa72e96d1",
       "version_major": 2,
       "version_minor": 0
      },
      "text/plain": [
       "  0%|          | 0/50 [00:00<?, ?it/s]"
      ]
     },
     "metadata": {},
     "output_type": "display_data"
    },
    {
     "name": "stderr",
     "output_type": "stream",
     "text": [
      "Processing images:   0%|          | 15/5168 [01:11<6:47:23,  4.74s/it, Lama_PSNR=19.15, ControlNet_PSNR=16.89, OpenCV_PSNR=20.16]"
     ]
    },
    {
     "data": {
      "application/vnd.jupyter.widget-view+json": {
       "model_id": "04ab0d63a134410c8b915ca540b91d5f",
       "version_major": 2,
       "version_minor": 0
      },
      "text/plain": [
       "  0%|          | 0/50 [00:00<?, ?it/s]"
      ]
     },
     "metadata": {},
     "output_type": "display_data"
    },
    {
     "name": "stderr",
     "output_type": "stream",
     "text": [
      "Processing images:   0%|          | 16/5168 [01:16<6:56:51,  4.85s/it, Lama_PSNR=24.67, ControlNet_PSNR=25.99, OpenCV_PSNR=26.16]"
     ]
    },
    {
     "data": {
      "application/vnd.jupyter.widget-view+json": {
       "model_id": "f5679c4e822a4c2eaf137b39002286df",
       "version_major": 2,
       "version_minor": 0
      },
      "text/plain": [
       "  0%|          | 0/50 [00:00<?, ?it/s]"
      ]
     },
     "metadata": {},
     "output_type": "display_data"
    },
    {
     "name": "stderr",
     "output_type": "stream",
     "text": [
      "Processing images:   0%|          | 17/5168 [01:21<6:59:00,  4.88s/it, Lama_PSNR=13.96, ControlNet_PSNR=12.68, OpenCV_PSNR=16.05]"
     ]
    },
    {
     "data": {
      "application/vnd.jupyter.widget-view+json": {
       "model_id": "9390679d843d4178869547cb7e67289c",
       "version_major": 2,
       "version_minor": 0
      },
      "text/plain": [
       "  0%|          | 0/50 [00:00<?, ?it/s]"
      ]
     },
     "metadata": {},
     "output_type": "display_data"
    },
    {
     "name": "stderr",
     "output_type": "stream",
     "text": [
      "Processing images:   0%|          | 18/5168 [01:26<6:51:16,  4.79s/it, Lama_PSNR=16.64, ControlNet_PSNR=16.33, OpenCV_PSNR=15.74]"
     ]
    },
    {
     "data": {
      "application/vnd.jupyter.widget-view+json": {
       "model_id": "866a333f62fe4269a4427b549363ba5c",
       "version_major": 2,
       "version_minor": 0
      },
      "text/plain": [
       "  0%|          | 0/50 [00:00<?, ?it/s]"
      ]
     },
     "metadata": {},
     "output_type": "display_data"
    },
    {
     "name": "stderr",
     "output_type": "stream",
     "text": [
      "Processing images:   0%|          | 19/5168 [01:31<6:54:38,  4.83s/it, Lama_PSNR=17.18, ControlNet_PSNR=13.63, OpenCV_PSNR=15.75]"
     ]
    },
    {
     "data": {
      "application/vnd.jupyter.widget-view+json": {
       "model_id": "9884669cdb954033812c633d6cb93871",
       "version_major": 2,
       "version_minor": 0
      },
      "text/plain": [
       "  0%|          | 0/50 [00:00<?, ?it/s]"
      ]
     },
     "metadata": {},
     "output_type": "display_data"
    },
    {
     "name": "stderr",
     "output_type": "stream",
     "text": [
      "Processing images:   0%|          | 20/5168 [01:35<6:51:40,  4.80s/it, Lama_PSNR=16.55, ControlNet_PSNR=17.87, OpenCV_PSNR=20.41]"
     ]
    },
    {
     "data": {
      "application/vnd.jupyter.widget-view+json": {
       "model_id": "b5754b49dc6f4470af1f4159ce1c6775",
       "version_major": 2,
       "version_minor": 0
      },
      "text/plain": [
       "  0%|          | 0/50 [00:00<?, ?it/s]"
      ]
     },
     "metadata": {},
     "output_type": "display_data"
    },
    {
     "name": "stderr",
     "output_type": "stream",
     "text": [
      "Processing images:   0%|          | 21/5168 [01:40<6:38:10,  4.64s/it, Lama_PSNR=21.04, ControlNet_PSNR=20.30, OpenCV_PSNR=20.51]"
     ]
    },
    {
     "data": {
      "application/vnd.jupyter.widget-view+json": {
       "model_id": "31f1c9763fa34665a2b91e83108101c6",
       "version_major": 2,
       "version_minor": 0
      },
      "text/plain": [
       "  0%|          | 0/50 [00:00<?, ?it/s]"
      ]
     },
     "metadata": {},
     "output_type": "display_data"
    },
    {
     "name": "stderr",
     "output_type": "stream",
     "text": [
      "Processing images:   0%|          | 22/5168 [01:45<6:47:24,  4.75s/it, Lama_PSNR=17.35, ControlNet_PSNR=13.37, OpenCV_PSNR=15.30]"
     ]
    },
    {
     "data": {
      "application/vnd.jupyter.widget-view+json": {
       "model_id": "2e30cde737cf4bc1bbf10bfcb38d3e9b",
       "version_major": 2,
       "version_minor": 0
      },
      "text/plain": [
       "  0%|          | 0/50 [00:00<?, ?it/s]"
      ]
     },
     "metadata": {},
     "output_type": "display_data"
    },
    {
     "name": "stderr",
     "output_type": "stream",
     "text": [
      "Processing images:   0%|          | 23/5168 [01:50<6:52:05,  4.81s/it, Lama_PSNR=47.21, ControlNet_PSNR=26.95, OpenCV_PSNR=38.52]"
     ]
    },
    {
     "data": {
      "application/vnd.jupyter.widget-view+json": {
       "model_id": "045eaf4238bd404e969a16c58b9fa2d4",
       "version_major": 2,
       "version_minor": 0
      },
      "text/plain": [
       "  0%|          | 0/50 [00:00<?, ?it/s]"
      ]
     },
     "metadata": {},
     "output_type": "display_data"
    },
    {
     "name": "stderr",
     "output_type": "stream",
     "text": [
      "Processing images:   0%|          | 24/5168 [01:54<6:41:22,  4.68s/it, Lama_PSNR=22.46, ControlNet_PSNR=22.90, OpenCV_PSNR=27.05]"
     ]
    },
    {
     "data": {
      "application/vnd.jupyter.widget-view+json": {
       "model_id": "c841e5c76e9845e387f7abdd8bcf4356",
       "version_major": 2,
       "version_minor": 0
      },
      "text/plain": [
       "  0%|          | 0/50 [00:00<?, ?it/s]"
      ]
     },
     "metadata": {},
     "output_type": "display_data"
    },
    {
     "name": "stderr",
     "output_type": "stream",
     "text": [
      "Processing images:   0%|          | 25/5168 [01:58<6:25:58,  4.50s/it, Lama_PSNR=13.65, ControlNet_PSNR=14.04, OpenCV_PSNR=16.95]"
     ]
    },
    {
     "data": {
      "application/vnd.jupyter.widget-view+json": {
       "model_id": "6fb51d06d32646e9b61322d02d1a430b",
       "version_major": 2,
       "version_minor": 0
      },
      "text/plain": [
       "  0%|          | 0/50 [00:00<?, ?it/s]"
      ]
     },
     "metadata": {},
     "output_type": "display_data"
    },
    {
     "name": "stderr",
     "output_type": "stream",
     "text": [
      "Processing images:   1%|          | 26/5168 [02:02<6:20:12,  4.44s/it, Lama_PSNR=16.82, ControlNet_PSNR=22.83, OpenCV_PSNR=31.46]"
     ]
    },
    {
     "data": {
      "application/vnd.jupyter.widget-view+json": {
       "model_id": "33e7285e95214ed4a2a077dad4c5aa0e",
       "version_major": 2,
       "version_minor": 0
      },
      "text/plain": [
       "  0%|          | 0/50 [00:00<?, ?it/s]"
      ]
     },
     "metadata": {},
     "output_type": "display_data"
    },
    {
     "name": "stderr",
     "output_type": "stream",
     "text": [
      "Processing images:   1%|          | 27/5168 [02:07<6:28:25,  4.53s/it, Lama_PSNR=15.97, ControlNet_PSNR=15.73, OpenCV_PSNR=17.70]"
     ]
    },
    {
     "data": {
      "application/vnd.jupyter.widget-view+json": {
       "model_id": "8b9af96cd6544be5b7a23d08cb7fb39d",
       "version_major": 2,
       "version_minor": 0
      },
      "text/plain": [
       "  0%|          | 0/50 [00:00<?, ?it/s]"
      ]
     },
     "metadata": {},
     "output_type": "display_data"
    },
    {
     "name": "stderr",
     "output_type": "stream",
     "text": [
      "Processing images:   1%|          | 28/5168 [02:11<6:24:35,  4.49s/it, Lama_PSNR=13.39, ControlNet_PSNR=14.96, OpenCV_PSNR=19.29]"
     ]
    },
    {
     "data": {
      "application/vnd.jupyter.widget-view+json": {
       "model_id": "b56db54d09a24922a92787c7d5ee92a6",
       "version_major": 2,
       "version_minor": 0
      },
      "text/plain": [
       "  0%|          | 0/50 [00:00<?, ?it/s]"
      ]
     },
     "metadata": {},
     "output_type": "display_data"
    },
    {
     "name": "stderr",
     "output_type": "stream",
     "text": [
      "Processing images:   1%|          | 29/5168 [02:16<6:25:33,  4.50s/it, Lama_PSNR=20.93, ControlNet_PSNR=15.08, OpenCV_PSNR=16.80]"
     ]
    },
    {
     "data": {
      "application/vnd.jupyter.widget-view+json": {
       "model_id": "41e388594a5a4f7b8762e8b98305d5f0",
       "version_major": 2,
       "version_minor": 0
      },
      "text/plain": [
       "  0%|          | 0/50 [00:00<?, ?it/s]"
      ]
     },
     "metadata": {},
     "output_type": "display_data"
    },
    {
     "name": "stderr",
     "output_type": "stream",
     "text": [
      "Processing images:   1%|          | 30/5168 [02:21<6:32:32,  4.58s/it, Lama_PSNR=25.21, ControlNet_PSNR=25.66, OpenCV_PSNR=32.12]"
     ]
    },
    {
     "data": {
      "application/vnd.jupyter.widget-view+json": {
       "model_id": "04a561fc5e2341129b88c7067060a87a",
       "version_major": 2,
       "version_minor": 0
      },
      "text/plain": [
       "  0%|          | 0/50 [00:00<?, ?it/s]"
      ]
     },
     "metadata": {},
     "output_type": "display_data"
    }
   ],
   "source": [
    "import os\n",
    "import shutil\n",
    "import csv\n",
    "import random\n",
    "import numpy as np\n",
    "from PIL import Image\n",
    "import torch\n",
    "from torchvision import transforms\n",
    "from diffusers import ControlNetModel, StableDiffusionInpaintPipeline\n",
    "from skimage.metrics import peak_signal_noise_ratio as compute_psnr\n",
    "from skimage.metrics import structural_similarity as compute_ssim\n",
    "import lpips  # pip install lpips\n",
    "from glob import glob\n",
    "from tqdm import tqdm\n",
    "import cv2  # OpenCV\n",
    "\n",
    "# ---------------------------\n",
    "# Set seeds for reproducibility\n",
    "# ---------------------------\n",
    "random.seed(42)\n",
    "np.random.seed(42)\n",
    "torch.manual_seed(42)\n",
    "if torch.cuda.is_available():\n",
    "    torch.cuda.manual_seed_all(42)\n",
    "\n",
    "# ---------------------------\n",
    "# Utility: Mask refinement using morphological closing\n",
    "# ---------------------------\n",
    "def refine_mask_cv(mask, kernel_size=3, iterations=1):\n",
    "    \"\"\"\n",
    "    Refine a binary mask using morphological closing to smooth out noise.\n",
    "    Adjust kernel_size and iterations for your data.\n",
    "    \"\"\"\n",
    "    kernel = cv2.getStructuringElement(cv2.MORPH_ELLIPSE, (kernel_size, kernel_size))\n",
    "    refined_mask = cv2.morphologyEx(mask, cv2.MORPH_CLOSE, kernel, iterations=iterations)\n",
    "    return refined_mask\n",
    "\n",
    "# ---------------------------\n",
    "# Inpainting functions\n",
    "# ---------------------------\n",
    "def run_lama_inpaint(image_path, mask_path, output_path):\n",
    "    from simple_lama_inpainting import SimpleLama  # import here in case it's not global\n",
    "    simple_lama = SimpleLama()\n",
    "    image = Image.open(image_path)\n",
    "    mask = Image.open(mask_path).convert('L')\n",
    "    result = simple_lama(image, mask)\n",
    "    result.save(output_path)\n",
    "    \n",
    "def run_opencv_inpaint(image_path, mask_path, output_path, inpaintRadius=3, method=cv2.INPAINT_TELEA, refine=True):\n",
    "    \"\"\"\n",
    "    OpenCV inpainting using the Telea algorithm.\n",
    "    Reads the image and mask using OpenCV, thresholds the mask to ensure it's binary,\n",
    "    optionally refines the mask, performs inpainting, and saves the result.\n",
    "    \"\"\"\n",
    "    image = cv2.imread(image_path, cv2.IMREAD_COLOR)\n",
    "    mask = cv2.imread(mask_path, cv2.IMREAD_GRAYSCALE)\n",
    "    # Ensure mask is binary\n",
    "    _, mask = cv2.threshold(mask, 127, 255, cv2.THRESH_BINARY)\n",
    "    if refine:\n",
    "        mask = refine_mask_cv(mask, kernel_size=3, iterations=1)\n",
    "    inpainted = cv2.inpaint(image, mask, inpaintRadius, method)\n",
    "    cv2.imwrite(output_path, inpainted)\n",
    "\n",
    "# ---------------------------\n",
    "# ControlNet helper functions\n",
    "# ---------------------------\n",
    "torch_dtype = torch.float16 if torch.cuda.is_available() else torch.float32\n",
    "\n",
    "def clean_huggingface_cache(model_path):\n",
    "    \"\"\"Remove unnecessary Hugging Face cache directories and .lock files.\"\"\"\n",
    "    for root, dirs, files in os.walk(model_path, topdown=False):\n",
    "        for name in files:\n",
    "            if name.endswith(\".lock\"):\n",
    "                os.remove(os.path.join(root, name))\n",
    "        for name in dirs:\n",
    "            if name.startswith(\"models--\") or name == \"temp\":\n",
    "                shutil.rmtree(os.path.join(root, name), ignore_errors=True)\n",
    "\n",
    "def get_latest_snapshot(model_path):\n",
    "    \"\"\"Find and move the correct snapshot folder for a downloaded model.\"\"\"\n",
    "    if os.path.exists(model_path):\n",
    "        for subdir in os.listdir(model_path):\n",
    "            snapshot_path = os.path.join(model_path, subdir, \"snapshots\")\n",
    "            if os.path.exists(snapshot_path):\n",
    "                snapshots = sorted(os.listdir(snapshot_path), reverse=True)\n",
    "                if snapshots:\n",
    "                    latest_snapshot = os.path.join(snapshot_path, snapshots[0])\n",
    "                    for file_name in os.listdir(latest_snapshot):\n",
    "                        src = os.path.join(latest_snapshot, file_name)\n",
    "                        dest = os.path.join(model_path, file_name)\n",
    "                        if not os.path.exists(dest):\n",
    "                            shutil.move(src, dest)\n",
    "                    shutil.rmtree(os.path.dirname(latest_snapshot), ignore_errors=True)\n",
    "                    return model_path\n",
    "    return model_path\n",
    "\n",
    "def check_and_download_model(model_name, model_path, is_controlnet=False):\n",
    "    \"\"\"Check if the model exists; if not, download and move it to the correct directory.\"\"\"\n",
    "    if is_controlnet:\n",
    "        model_path = os.path.join(model_path, \"controlnet\")\n",
    "    else:\n",
    "        model_path = os.path.join(model_path, \"stable-diffusion\")\n",
    "\n",
    "    if os.path.exists(model_path) and os.listdir(model_path):\n",
    "        return\n",
    "\n",
    "    # Download silently\n",
    "    temp_dir = os.path.join(\"models\", \"temp\")\n",
    "    if is_controlnet:\n",
    "        ControlNetModel.from_pretrained(model_name, cache_dir=temp_dir)\n",
    "    else:\n",
    "        StableDiffusionInpaintPipeline.from_pretrained(model_name, cache_dir=temp_dir)\n",
    "\n",
    "    correct_model_path = get_latest_snapshot(temp_dir)\n",
    "    os.makedirs(model_path, exist_ok=True)\n",
    "    for file_name in os.listdir(correct_model_path):\n",
    "        src = os.path.join(correct_model_path, file_name)\n",
    "        dest = os.path.join(model_path, file_name)\n",
    "        if not os.path.exists(dest):\n",
    "            shutil.move(src, dest)\n",
    "    shutil.rmtree(temp_dir, ignore_errors=True)\n",
    "\n",
    "def load_controlnet():\n",
    "    device = \"cuda\" if torch.cuda.is_available() else \"cpu\"\n",
    "    models_dir = \"models\"\n",
    "    os.makedirs(models_dir, exist_ok=True)\n",
    "    controlnet_dir = os.path.join(models_dir, \"controlnet\")\n",
    "    stable_diffusion_dir = os.path.join(models_dir, \"stable-diffusion\")\n",
    "    os.makedirs(controlnet_dir, exist_ok=True)\n",
    "    os.makedirs(stable_diffusion_dir, exist_ok=True)\n",
    "\n",
    "    check_and_download_model(\"stabilityai/stable-diffusion-2-inpainting\", models_dir, is_controlnet=False)\n",
    "    check_and_download_model(\"lllyasviel/control_v11p_sd15_inpaint\", models_dir, is_controlnet=True)\n",
    "\n",
    "    clean_huggingface_cache(models_dir)\n",
    "\n",
    "    pipe = StableDiffusionInpaintPipeline.from_pretrained(\n",
    "        stable_diffusion_dir, torch_dtype=torch_dtype, local_files_only=True\n",
    "    ).to(device, dtype=torch_dtype)\n",
    "    return pipe\n",
    "\n",
    "def make_divisible_by_8(size):\n",
    "    \"\"\"Ensure both width and height are divisible by 8.\"\"\"\n",
    "    width, height = size\n",
    "    width = (width // 8) * 8\n",
    "    height = (height // 8) * 8\n",
    "    return width, height\n",
    "\n",
    "def run_controlnet_inpaint(image_path, mask_path, pipe, reference_images, prompt, output_path, seed=42):\n",
    "    # Open image and mask\n",
    "    image = Image.open(image_path).convert(\"RGB\")\n",
    "    mask = Image.open(mask_path).convert(\"L\")\n",
    "    original_size = image.size\n",
    "    adjusted_size = make_divisible_by_8(original_size)\n",
    "\n",
    "    conditioning = None\n",
    "    if reference_images:\n",
    "        conditioning = [\n",
    "            img.resize(adjusted_size, Image.Resampling.LANCZOS)\n",
    "            for img in reference_images\n",
    "        ]\n",
    "\n",
    "    # Create a generator with a fixed seed for reproducibility\n",
    "    device = \"cuda\" if torch.cuda.is_available() else \"cpu\"\n",
    "    generator = torch.Generator(device=device).manual_seed(seed)\n",
    "\n",
    "    result = pipe(\n",
    "        prompt=prompt,\n",
    "        image=image.resize(adjusted_size, Image.Resampling.LANCZOS),\n",
    "        mask_image=mask.resize(adjusted_size, Image.Resampling.LANCZOS),\n",
    "        conditioning_image=conditioning,\n",
    "        height=adjusted_size[1],\n",
    "        width=adjusted_size[0],\n",
    "        generator=generator\n",
    "    ).images[0]\n",
    "    result = result.resize(original_size, Image.Resampling.LANCZOS)\n",
    "    result.save(output_path)\n",
    "\n",
    "# ---------------------------\n",
    "# LPIPS model loading\n",
    "# ---------------------------\n",
    "def load_lpips_model(model_dir=\"models/lpips\"):\n",
    "    os.makedirs(model_dir, exist_ok=True)\n",
    "    model_path = os.path.join(model_dir, \"lpips_alex.pth\")\n",
    "    model = lpips.LPIPS(net='alex')\n",
    "    if os.path.exists(model_path):\n",
    "        model.load_state_dict(torch.load(model_path, map_location='cpu'))\n",
    "    else:\n",
    "        torch.save(model.state_dict(), model_path)\n",
    "    model.eval()\n",
    "    if torch.cuda.is_available():\n",
    "        model.cuda()\n",
    "    return model\n",
    "\n",
    "lpips_model = load_lpips_model()\n",
    "\n",
    "# ---------------------------\n",
    "# Evaluation functions\n",
    "# ---------------------------\n",
    "def prepare_for_lpips(pil_image):\n",
    "    tensor = transforms.ToTensor()(pil_image).unsqueeze(0)\n",
    "    tensor = tensor * 2 - 1\n",
    "    if torch.cuda.is_available():\n",
    "        tensor = tensor.cuda()\n",
    "    return tensor\n",
    "\n",
    "def evaluate_metrics(gt_img, inpaint_img):\n",
    "    gt_np = np.array(gt_img).astype(np.float32) / 255.0\n",
    "    inpaint_np = np.array(inpaint_img).astype(np.float32) / 255.0\n",
    "\n",
    "    if gt_np.shape != inpaint_np.shape:\n",
    "        inpaint_img = inpaint_img.resize(gt_img.size, Image.Resampling.LANCZOS)\n",
    "        inpaint_np = np.array(inpaint_img).astype(np.float32) / 255.0\n",
    "\n",
    "    psnr = compute_psnr(gt_np, inpaint_np, data_range=1.0)\n",
    "\n",
    "    min_size = min(gt_np.shape[0], gt_np.shape[1])\n",
    "    win_size = 7 if min_size >= 7 else (min_size if min_size % 2 == 1 else min_size - 1)\n",
    "    ssim = compute_ssim(gt_np, inpaint_np, win_size=win_size, channel_axis=2, data_range=1.0)\n",
    "\n",
    "    gt_tensor = prepare_for_lpips(gt_img)\n",
    "    inpaint_tensor = prepare_for_lpips(inpaint_img)\n",
    "    with torch.no_grad():\n",
    "        lpips_distance = lpips_model(gt_tensor, inpaint_tensor).item()\n",
    "\n",
    "    return psnr, ssim, lpips_distance\n",
    "\n",
    "# ---------------------------\n",
    "# Main combined evaluation\n",
    "# ---------------------------\n",
    "if __name__ == \"__main__\":\n",
    "    image_dir = \"DUT-OMRON-image\"   # Ground truth images (JPEG)\n",
    "    mask_dir = \"DUT-OMRON-mask\"     # Masks (PNG)\n",
    "    results_dir = \"results\"\n",
    "    lama_dir = os.path.join(results_dir, \"lama\")\n",
    "    controlnet_dir = os.path.join(results_dir, \"controlnet\")\n",
    "    opencv_dir = os.path.join(results_dir, \"opencv\")  # Directory for OpenCV results\n",
    "    os.makedirs(lama_dir, exist_ok=True)\n",
    "    os.makedirs(controlnet_dir, exist_ok=True)\n",
    "    os.makedirs(opencv_dir, exist_ok=True)\n",
    "\n",
    "    pipe = load_controlnet()\n",
    "   \n",
    "    prompt = (\n",
    "        \"Replace the masked region with a natural extension of the surrounding background, ensuring the textures, colors, and lighting blend seamlessly. Do not recreate any specific object shapes from the mask.\"\n",
    "    )\n",
    "\n",
    "    evaluation_results = []\n",
    "    image_paths = sorted(glob(os.path.join(image_dir, \"*.*\")))\n",
    "    pbar = tqdm(image_paths, total=len(image_paths), desc=\"Processing images\", leave=True)\n",
    "    \n",
    "    for image_path in pbar:\n",
    "        filename = os.path.basename(image_path)\n",
    "        basename = os.path.splitext(filename)[0]\n",
    "        mask_path = os.path.join(mask_dir, basename + \".png\")  # Adjust extension if needed\n",
    "        if not os.path.exists(mask_path):\n",
    "            # silently skip missing masks\n",
    "            continue\n",
    "\n",
    "        out_lama = os.path.join(lama_dir, filename)\n",
    "        out_controlnet = os.path.join(controlnet_dir, filename)\n",
    "        out_opencv = os.path.join(opencv_dir, filename)\n",
    "\n",
    "        try:\n",
    "            run_lama_inpaint(image_path, mask_path, out_lama)\n",
    "        except Exception as e:\n",
    "            print(f\"Error in Lama for {filename}: {e}\")\n",
    "            continue\n",
    "\n",
    "        try:\n",
    "            reference_images = None  # or [] if needed\n",
    "            # You can optionally vary the seed per image (e.g., seed = 42 + idx) for diversity\n",
    "            run_controlnet_inpaint(image_path, mask_path, pipe, reference_images, prompt, out_controlnet, seed=42)\n",
    "        except Exception as e:\n",
    "            print(f\"Error in ControlNet for {filename}: {e}\")\n",
    "            continue\n",
    "\n",
    "        try:\n",
    "            run_opencv_inpaint(image_path, mask_path, out_opencv, refine=True)\n",
    "        except Exception as e:\n",
    "            print(f\"Error in OpenCV for {filename}: {e}\")\n",
    "            continue\n",
    "\n",
    "        gt_image = Image.open(image_path).convert(\"RGB\")\n",
    "        lama_result = Image.open(out_lama).convert(\"RGB\")\n",
    "        controlnet_result = Image.open(out_controlnet).convert(\"RGB\")\n",
    "        opencv_result = Image.open(out_opencv).convert(\"RGB\")\n",
    "        \n",
    "        lama_psnr, _, _ = evaluate_metrics(gt_image, lama_result)\n",
    "        controlnet_psnr, _, _ = evaluate_metrics(gt_image, controlnet_result)\n",
    "        opencv_psnr, _, _ = evaluate_metrics(gt_image, opencv_result)\n",
    "        \n",
    "        # Update the progress bar with the latest metrics\n",
    "        pbar.set_postfix({\n",
    "            \"Lama_PSNR\": f\"{lama_psnr:.2f}\",\n",
    "            \"ControlNet_PSNR\": f\"{controlnet_psnr:.2f}\",\n",
    "            \"OpenCV_PSNR\": f\"{opencv_psnr:.2f}\"\n",
    "        })\n",
    "        \n",
    "        evaluation_results.append({\n",
    "            'filename': filename,\n",
    "            'lama_PSNR': lama_psnr,\n",
    "            'controlnet_PSNR': controlnet_psnr,\n",
    "            'opencv_PSNR': opencv_psnr\n",
    "        })\n",
    "        \n",
    "    # Write results to CSV\n",
    "    csv_file_path = \"evaluation_results.csv\"\n",
    "    csv_fields = ['filename', 'lama_PSNR', 'controlnet_PSNR', 'opencv_PSNR']\n",
    "    with open(csv_file_path, mode='w', newline='') as csv_file:\n",
    "        writer = csv.DictWriter(csv_file, fieldnames=csv_fields)\n",
    "        writer.writeheader()\n",
    "        for row in evaluation_results:\n",
    "            writer.writerow(row)\n",
    "    \n",
    "    print(f\"Processing images: {len(image_paths)}/{len(image_paths)} completed. Results saved to {csv_file_path}\")\n"
   ]
  },
  {
   "cell_type": "code",
   "execution_count": null,
   "id": "f6a76827-2ef3-46a0-bd8a-24546147df11",
   "metadata": {},
   "outputs": [],
   "source": []
  }
 ],
 "metadata": {
  "kernelspec": {
   "display_name": "Python 3 (ipykernel)",
   "language": "python",
   "name": "python3"
  },
  "language_info": {
   "codemirror_mode": {
    "name": "ipython",
    "version": 3
   },
   "file_extension": ".py",
   "mimetype": "text/x-python",
   "name": "python",
   "nbconvert_exporter": "python",
   "pygments_lexer": "ipython3",
   "version": "3.12.7"
  }
 },
 "nbformat": 4,
 "nbformat_minor": 5
}
